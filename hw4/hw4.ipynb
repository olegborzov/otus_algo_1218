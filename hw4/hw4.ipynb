{
 "cells": [
  {
   "cell_type": "markdown",
   "metadata": {},
   "source": [
    "## Задание - Реализовать Insertion Sort и Shell Sort \n",
    "\n",
    "#### Дополнительно:\n",
    "- Протестировать работу алгоритмов на случайных массивах и на практически упорядоченных массивах, сравнить производительность. <br>\n",
    "- Сравнить производительность сортировки Шелла c разной последовательностью шагов.\n",
    "\n",
    "## Критерии оценки\n",
    "- реализован только один алгоритм сортировки / есть серьезные недочеты в реализации, влияющие на производительность - 1 балл\n",
    "- алгоритмы реализованы корректно, но есть небольшие недочеты, влияющие на производительность - 2 балла (2 \"основных\" балла - необходимый минимум для зачета)\n",
    "- оба алгоритма реализованы корректно - 3 балла\n",
    "\n",
    "#### Дополнительно:\n",
    "- проведено сравнение производительности на разных массивах - 1 балл\n",
    "- проведено сравнение производительности Shell sort с разными последовательностями шагов - 1 балл\n",
    "- работа сдана вовремя - 1 балл"
   ]
  },
  {
   "cell_type": "code",
   "execution_count": 1,
   "metadata": {},
   "outputs": [],
   "source": [
    "from typing import List, Optional, Callable\n",
    "import random"
   ]
  },
  {
   "cell_type": "markdown",
   "metadata": {},
   "source": [
    "# Insertion Sort"
   ]
  },
  {
   "cell_type": "code",
   "execution_count": 2,
   "metadata": {},
   "outputs": [],
   "source": [
    "def insertion_sort(array: List, step: int = 1, start: int = 0):\n",
    "    for i in range(start+step, len(array), step):\n",
    "        x = array[i]\n",
    "        j = i\n",
    "        \n",
    "        while j >= step and array[j-step] > x:\n",
    "            array[j] = array[j-step]\n",
    "            j -= step\n",
    "        \n",
    "        array[j] = x"
   ]
  },
  {
   "cell_type": "markdown",
   "metadata": {},
   "source": [
    "## Тесты Insertion Sort"
   ]
  },
  {
   "cell_type": "code",
   "execution_count": 3,
   "metadata": {},
   "outputs": [],
   "source": [
    "import time\n",
    "import matplotlib.pyplot as plt  \n",
    "import tqdm  # для отображения прогресс-бара"
   ]
  },
  {
   "cell_type": "code",
   "execution_count": 43,
   "metadata": {
    "scrolled": true
   },
   "outputs": [],
   "source": [
    "def profile(max_size, \n",
    "            sort_func, arr_gen_func=None, \n",
    "            sort_args={}, arr_gen_args={}, \n",
    "            runs_on_loop=10):\n",
    "    \"\"\"\n",
    "    Профилирование работы функции сортировки\n",
    "    \n",
    "    Параметры:\n",
    "    max_size - максимальный размер списка\n",
    "    sort_func - функция сортировки, должна принимать на вход список и **kwargs\n",
    "    arr_gen_func - функция для генерации списка, должна принимать на вход размер списка и **kwargs\n",
    "    sort_args - доп. аргументы для sort_func\n",
    "    arr_gen_args - доп. аргументы для arr_gen_func\n",
    "    runs_on_loop - количество запусков в 1 итерации \n",
    "    \"\"\"\n",
    "    times = []\n",
    "    sizes = []\n",
    "    if not arr_gen_func:\n",
    "        arr_gen_func = lambda size, **arr_gen_args: [random.randint(0, size) for _ in range(size)]\n",
    "    \n",
    "    sizes = []\n",
    "    for i in range(1, 100):\n",
    "        new_size = 4**i\n",
    "        if new_size > max_size:\n",
    "            break\n",
    "        sizes.append(new_size)\n",
    "    \n",
    "    for arr_size in tqdm.tqdm(sizes):\n",
    "        nested_time = []\n",
    "        \n",
    "        for _ in range(runs_on_loop):\n",
    "            arr = arr_gen_func(arr_size, **arr_gen_args)\n",
    "            start = time.process_time()\n",
    "            sort_func(arr, **sort_args)\n",
    "            nested_time.append(time.process_time() - start)\n",
    "            \n",
    "        times.append(sum(nested_time) / len(nested_time))\n",
    "    return times, sizes"
   ]
  },
  {
   "cell_type": "markdown",
   "metadata": {},
   "source": [
    "### Список со случайным порядком\n",
    " - Функция сортировки - insertion_sort со значениями по умолчанию\n",
    " - Размер списка - от 0 до 1000 с шагом 100\n",
    " - Функция генерации списка - случайный порядок"
   ]
  },
  {
   "cell_type": "code",
   "execution_count": 44,
   "metadata": {},
   "outputs": [
    {
     "name": "stderr",
     "output_type": "stream",
     "text": [
      "\n",
      "  0%|          | 0/5 [00:00<?, ?it/s]\u001b[A\n",
      "100%|██████████| 5/5 [00:00<00:00,  7.24it/s]\u001b[A\n",
      "\u001b[A"
     ]
    },
    {
     "data": {
      "text/plain": [
       "[<matplotlib.lines.Line2D at 0x11b6d1ef0>]"
      ]
     },
     "execution_count": 44,
     "metadata": {},
     "output_type": "execute_result"
    },
    {
     "data": {
      "image/png": "[encoded data removed]",
      "text/plain": [
       "<Figure size 432x288 with 1 Axes>"
      ]
     },
     "metadata": {
      "needs_background": "light"
     },
     "output_type": "display_data"
    }
   ],
   "source": [
    "times, sizes = profile(1500, insertion_sort)\n",
    "plt.plot(sizes, times)"
   ]
  },
  {
   "cell_type": "code",
   "execution_count": 45,
   "metadata": {},
   "outputs": [
    {
     "data": {
      "text/plain": [
       "[4, 16, 64, 256, 1024]"
      ]
     },
     "execution_count": 45,
     "metadata": {},
     "output_type": "execute_result"
    }
   ],
   "source": [
    "sizes"
   ]
  },
  {
   "cell_type": "markdown",
   "metadata": {},
   "source": [
    "### Почти упорядоченный список\n",
    " - Функция сортировки - insertion_sort со значениями по умолчанию\n",
    " - Размер списка - от 0 до 1000 с шагом 100\n",
    " - Функция генерации списка - generate_almost_sorted с разной степенью упорядоченности\n"
   ]
  },
  {
   "cell_type": "code",
   "execution_count": 12,
   "metadata": {},
   "outputs": [],
   "source": [
    "def generate_almost_sorted(size: int, shuffle_percents: int) -> List:\n",
    "    \"\"\"\n",
    "    1. Генерируем список заданного размера\n",
    "    2. Исходя из shuffle_percents рассчитываем шаг с которым мы мешаем элементы.\n",
    "    Шаг=2 - меняем каждый 2 элемент со следующим\n",
    "    Шаг=10 - меняем каждый 10 элемент со следующим\n",
    "    и т.д.\n",
    "    3. Если шаг находится в допустимых границах - перемешиваем элементы с полученным шагом\n",
    "    \n",
    "    Параметры:\n",
    "    size: размер списка\n",
    "    shuffle_percents: процент элементов в списке, которые нужно перемешать\n",
    "    \"\"\"\n",
    "    array = list(range(size))\n",
    "    \n",
    "    step = int(100/shuffle_percents)\n",
    "    if not (1 < step < len(array)):\n",
    "        return array\n",
    "    \n",
    "    for i in range(0, len(array), step):\n",
    "        array[i] = random.randint(0, size)\n",
    "    \n",
    "    return array"
   ]
  },
  {
   "cell_type": "code",
   "execution_count": 13,
   "metadata": {},
   "outputs": [
    {
     "ename": "TypeError",
     "evalue": "profile() got multiple values for argument 'arr_gen_func'",
     "output_type": "error",
     "traceback": [
      "\u001b[0;31m---------------------------------------------------------------------------\u001b[0m",
      "\u001b[0;31mTypeError\u001b[0m                                 Traceback (most recent call last)",
      "\u001b[0;32m<ipython-input-13-1b130001493f>\u001b[0m in \u001b[0;36m<module>\u001b[0;34m\u001b[0m\n\u001b[1;32m      4\u001b[0m     \u001b[0marr_gen_func\u001b[0m\u001b[0;34m=\u001b[0m\u001b[0mgenerate_almost_sorted\u001b[0m\u001b[0;34m,\u001b[0m\u001b[0;34m\u001b[0m\u001b[0;34m\u001b[0m\u001b[0m\n\u001b[1;32m      5\u001b[0m     \u001b[0marr_gen_args\u001b[0m\u001b[0;34m=\u001b[0m\u001b[0;34m{\u001b[0m\u001b[0;34m\"shuffle_percents\"\u001b[0m\u001b[0;34m:\u001b[0m \u001b[0;36m5\u001b[0m\u001b[0;34m}\u001b[0m\u001b[0;34m,\u001b[0m\u001b[0;34m\u001b[0m\u001b[0;34m\u001b[0m\u001b[0m\n\u001b[0;32m----> 6\u001b[0;31m     \u001b[0mruns_on_loop\u001b[0m\u001b[0;34m=\u001b[0m\u001b[0;36m5\u001b[0m\u001b[0;34m\u001b[0m\u001b[0;34m\u001b[0m\u001b[0m\n\u001b[0m\u001b[1;32m      7\u001b[0m )\n\u001b[1;32m      8\u001b[0m \u001b[0mplt\u001b[0m\u001b[0;34m.\u001b[0m\u001b[0mplot\u001b[0m\u001b[0;34m(\u001b[0m\u001b[0msizes\u001b[0m\u001b[0;34m,\u001b[0m \u001b[0mtimes\u001b[0m\u001b[0;34m)\u001b[0m\u001b[0;34m\u001b[0m\u001b[0;34m\u001b[0m\u001b[0m\n",
      "\u001b[0;31mTypeError\u001b[0m: profile() got multiple values for argument 'arr_gen_func'"
     ]
    }
   ],
   "source": [
    "# shuffle_percents = 5%\n",
    "times, sizes = profile(\n",
    "    1000, 100, insertion_sort, \n",
    "    arr_gen_func=generate_almost_sorted,\n",
    "    arr_gen_args={\"shuffle_percents\": 5},\n",
    "    runs_on_loop=5\n",
    ")\n",
    "plt.plot(sizes, times)"
   ]
  },
  {
   "cell_type": "code",
   "execution_count": 167,
   "metadata": {},
   "outputs": [
    {
     "name": "stderr",
     "output_type": "stream",
     "text": [
      "\n",
      "  0%|          | 0/10 [00:00<?, ?it/s]\u001b[A\n",
      " 60%|██████    | 6/10 [00:00<00:00, 58.25it/s]\u001b[A\n",
      " 80%|████████  | 8/10 [00:00<00:00, 26.73it/s]\u001b[A\n",
      "100%|██████████| 10/10 [00:00<00:00, 14.86it/s]\u001b[A"
     ]
    },
    {
     "data": {
      "text/plain": [
       "[<matplotlib.lines.Line2D at 0x113bf3940>]"
      ]
     },
     "execution_count": 167,
     "metadata": {},
     "output_type": "execute_result"
    },
    {
     "data": {
      "image/png": "[encoded data removed]",
      "text/plain": [
       "<Figure size 432x288 with 1 Axes>"
      ]
     },
     "metadata": {},
     "output_type": "display_data"
    }
   ],
   "source": [
    "# shuffle_percents = 25%\n",
    "times, sizes = profile(\n",
    "    1000, 100, insertion_sort, \n",
    "    arr_gen_func=generate_almost_sorted,\n",
    "    arr_gen_args={\"shuffle_percents\": 25},\n",
    "    runs_on_loop=5\n",
    ")\n",
    "plt.plot(sizes, times)"
   ]
  },
  {
   "cell_type": "code",
   "execution_count": 168,
   "metadata": {},
   "outputs": [
    {
     "name": "stderr",
     "output_type": "stream",
     "text": [
      "\n",
      "  0%|          | 0/10 [00:00<?, ?it/s]\u001b[A\n",
      " 50%|█████     | 5/10 [00:00<00:00, 46.36it/s]\u001b[A\n",
      " 70%|███████   | 7/10 [00:00<00:00, 21.62it/s]\u001b[A\n",
      " 90%|█████████ | 9/10 [00:00<00:00, 11.13it/s]\u001b[A\n",
      "100%|██████████| 10/10 [00:00<00:00, 10.46it/s]\u001b[A"
     ]
    },
    {
     "data": {
      "text/plain": [
       "[<matplotlib.lines.Line2D at 0x113ca67b8>]"
      ]
     },
     "execution_count": 168,
     "metadata": {},
     "output_type": "execute_result"
    },
    {
     "data": {
      "image/png": "[encoded data removed]",
      "text/plain": [
       "<Figure size 432x288 with 1 Axes>"
      ]
     },
     "metadata": {},
     "output_type": "display_data"
    }
   ],
   "source": [
    "# shuffle_percents = 50%\n",
    "times, sizes = profile(\n",
    "    1000, 100, insertion_sort, \n",
    "    arr_gen_func=generate_almost_sorted,\n",
    "    arr_gen_args={\"shuffle_percents\": 50},\n",
    "    runs_on_loop=5\n",
    ")\n",
    "plt.plot(sizes, times)"
   ]
  },
  {
   "cell_type": "markdown",
   "metadata": {},
   "source": [
    "# Shell Sort"
   ]
  },
  {
   "cell_type": "code",
   "execution_count": 164,
   "metadata": {},
   "outputs": [],
   "source": [
    "def shell_sort(array: List, step_func: Optional[Callable] = None):\n",
    "    step_func = step_func if step_func is not None else lambda d: d // 2\n",
    "    \n",
    "    i = 1\n",
    "    step = step_func(len(array))\n",
    "    while step > 0:\n",
    "        for start in range(step):\n",
    "            insertion_sort(array, step, start)\n",
    "        step = step_func(step)\n",
    "        i += 1"
   ]
  },
  {
   "cell_type": "markdown",
   "metadata": {},
   "source": [
    "## Тесты Shell Sort"
   ]
  },
  {
   "cell_type": "markdown",
   "metadata": {},
   "source": [
    "### Список со случайным порядком, Шаг: d = d // 2\n",
    " - Функция сортировки - shell_sort со значениями по умолчанию\n",
    " - Шаг: d = d // 2\n",
    " - Размер списка - от 0 до 1000 с шагом 100\n",
    " - Функция генерации списка - случайный порядок"
   ]
  },
  {
   "cell_type": "code",
   "execution_count": 165,
   "metadata": {},
   "outputs": [
    {
     "name": "stderr",
     "output_type": "stream",
     "text": [
      "\n",
      "  0%|          | 0/10 [00:00<?, ?it/s]\u001b[A\n",
      " 50%|█████     | 5/10 [00:00<00:00, 34.82it/s]\u001b[A\n",
      " 70%|███████   | 7/10 [00:00<00:00, 21.49it/s]\u001b[A\n",
      " 90%|█████████ | 9/10 [00:00<00:00, 15.56it/s]\u001b[A\n",
      "100%|██████████| 10/10 [00:00<00:00, 14.25it/s]\u001b[A"
     ]
    },
    {
     "data": {
      "text/plain": [
       "[<matplotlib.lines.Line2D at 0x112f75a90>]"
      ]
     },
     "execution_count": 165,
     "metadata": {},
     "output_type": "execute_result"
    },
    {
     "data": {
      "image/png": "[encoded data removed]",
      "text/plain": [
       "<Figure size 432x288 with 1 Axes>"
      ]
     },
     "metadata": {},
     "output_type": "display_data"
    }
   ],
   "source": [
    "times, sizes = profile(\n",
    "    1000, 100, shell_sort\n",
    ")\n",
    "plt.plot(sizes, times)"
   ]
  },
  {
   "cell_type": "markdown",
   "metadata": {},
   "source": [
    "### Список со случайным порядком, Шаг: d = d // 5\n",
    " - Функция сортировки - shell_sort со значениями по умолчанию\n",
    " - Шаг: d = d // 5\n",
    " - Размер списка - от 0 до 1000 с шагом 100\n",
    " - Функция генерации списка - случайный порядок"
   ]
  },
  {
   "cell_type": "code",
   "execution_count": 181,
   "metadata": {},
   "outputs": [
    {
     "name": "stderr",
     "output_type": "stream",
     "text": [
      "\n",
      "  0%|          | 0/10 [00:00<?, ?it/s]\u001b[A\n",
      " 50%|█████     | 5/10 [00:00<00:00, 47.06it/s]\u001b[A\n",
      " 70%|███████   | 7/10 [00:00<00:00, 32.52it/s]\u001b[A\n",
      " 90%|█████████ | 9/10 [00:00<00:00, 19.74it/s]\u001b[A\n",
      "100%|██████████| 10/10 [00:00<00:00, 19.15it/s]\u001b[A"
     ]
    },
    {
     "data": {
      "text/plain": [
       "[<matplotlib.lines.Line2D at 0x11415f748>]"
      ]
     },
     "execution_count": 181,
     "metadata": {},
     "output_type": "execute_result"
    },
    {
     "data": {
      "image/png": "[encoded data removed]",
      "text/plain": [
       "<Figure size 432x288 with 1 Axes>"
      ]
     },
     "metadata": {},
     "output_type": "display_data"
    }
   ],
   "source": [
    "step_func = lambda d: d // 5\n",
    "times, sizes = profile(\n",
    "    1000, 100, shell_sort,\n",
    "    sort_args={\"step_func\": step_func}\n",
    ")\n",
    "plt.plot(sizes, times)"
   ]
  },
  {
   "cell_type": "code",
   "execution_count": 184,
   "metadata": {},
   "outputs": [
    {
     "name": "stderr",
     "output_type": "stream",
     "text": [
      "\n",
      "  0%|          | 0/10 [00:00<?, ?it/s]\u001b[A\n",
      " 20%|██        | 2/10 [00:00<00:00, 14.43it/s]\u001b[A\n",
      " 30%|███       | 3/10 [00:00<00:01,  6.75it/s]\u001b[A\n",
      " 40%|████      | 4/10 [00:01<00:01,  3.04it/s]\u001b[A\n",
      " 50%|█████     | 5/10 [00:02<00:03,  1.57it/s]\u001b[A\n",
      " 60%|██████    | 6/10 [00:04<00:04,  1.09s/it]\u001b[A\n",
      " 70%|███████   | 7/10 [00:07<00:05,  1.72s/it]\u001b[A\n",
      " 80%|████████  | 8/10 [00:12<00:04,  2.49s/it]\u001b[A\n",
      " 90%|█████████ | 9/10 [00:17<00:03,  3.40s/it]\u001b[A\n",
      "100%|██████████| 10/10 [00:24<00:00,  4.45s/it]\u001b[A"
     ]
    },
    {
     "data": {
      "text/plain": [
       "[<matplotlib.lines.Line2D at 0x11423ccf8>]"
      ]
     },
     "execution_count": 184,
     "metadata": {},
     "output_type": "execute_result"
    },
    {
     "data": {
      "image/png": "[encoded data removed]",
      "text/plain": [
       "<Figure size 432x288 with 1 Axes>"
      ]
     },
     "metadata": {},
     "output_type": "display_data"
    }
   ],
   "source": [
    "step_func = lambda d: d-1\n",
    "\n",
    "times, sizes = profile(\n",
    "    1000, 100, shell_sort,\n",
    "    sort_args={\"step_func\": step_func}\n",
    ")\n",
    "plt.plot(sizes, times)"
   ]
  },
  {
   "cell_type": "markdown",
   "metadata": {},
   "source": [
    "### Почти упорядоченный список, Шаг: d = d // 2\n",
    " - Функция сортировки - shell_sort со значениями по умолчанию\n",
    " - Шаг: d = d // 2\n",
    " - Размер списка - от 0 до 1000 с шагом 100\n",
    " - Функция генерации списка - generate_almost_sorted с разной степенью упорядоченности"
   ]
  },
  {
   "cell_type": "code",
   "execution_count": 169,
   "metadata": {},
   "outputs": [
    {
     "name": "stderr",
     "output_type": "stream",
     "text": [
      "\n",
      "  0%|          | 0/10 [00:00<?, ?it/s]\u001b[A\n",
      " 90%|█████████ | 9/10 [00:00<00:00, 76.08it/s]\u001b[A\n",
      "100%|██████████| 10/10 [00:00<00:00, 64.37it/s]\u001b[A"
     ]
    },
    {
     "data": {
      "text/plain": [
       "[<matplotlib.lines.Line2D at 0x113dbc2e8>]"
      ]
     },
     "execution_count": 169,
     "metadata": {},
     "output_type": "execute_result"
    },
    {
     "data": {
      "image/png": "[encoded data removed]",
      "text/plain": [
       "<Figure size 432x288 with 1 Axes>"
      ]
     },
     "metadata": {},
     "output_type": "display_data"
    }
   ],
   "source": [
    "# shuffle_percents = 5%\n",
    "times, sizes = profile(\n",
    "    1000, 100, shell_sort, \n",
    "    arr_gen_func=generate_almost_sorted,\n",
    "    arr_gen_args={\"shuffle_percents\": 5},\n",
    "    runs_on_loop=5\n",
    ")\n",
    "plt.plot(sizes, times)"
   ]
  },
  {
   "cell_type": "code",
   "execution_count": 170,
   "metadata": {},
   "outputs": [
    {
     "name": "stderr",
     "output_type": "stream",
     "text": [
      "\n",
      "  0%|          | 0/10 [00:00<?, ?it/s]\u001b[A\n",
      " 80%|████████  | 8/10 [00:00<00:00, 71.58it/s]\u001b[A\n",
      "100%|██████████| 10/10 [00:00<00:00, 52.76it/s]\u001b[A"
     ]
    },
    {
     "data": {
      "text/plain": [
       "[<matplotlib.lines.Line2D at 0x113e70860>]"
      ]
     },
     "execution_count": 170,
     "metadata": {},
     "output_type": "execute_result"
    },
    {
     "data": {
      "image/png": "[encoded data removed]",
      "text/plain": [
       "<Figure size 432x288 with 1 Axes>"
      ]
     },
     "metadata": {},
     "output_type": "display_data"
    }
   ],
   "source": [
    "# shuffle_percents = 25%\n",
    "times, sizes = profile(\n",
    "    1000, 100, shell_sort, \n",
    "    arr_gen_func=generate_almost_sorted,\n",
    "    arr_gen_args={\"shuffle_percents\": 25},\n",
    "    runs_on_loop=5\n",
    ")\n",
    "plt.plot(sizes, times)"
   ]
  },
  {
   "cell_type": "code",
   "execution_count": 171,
   "metadata": {},
   "outputs": [
    {
     "name": "stderr",
     "output_type": "stream",
     "text": [
      "\n",
      "  0%|          | 0/10 [00:00<?, ?it/s]\u001b[A\n",
      " 70%|███████   | 7/10 [00:00<00:00, 65.65it/s]\u001b[A\n",
      "100%|██████████| 10/10 [00:00<00:00, 42.15it/s]\u001b[A"
     ]
    },
    {
     "data": {
      "text/plain": [
       "[<matplotlib.lines.Line2D at 0x113ec3e48>]"
      ]
     },
     "execution_count": 171,
     "metadata": {},
     "output_type": "execute_result"
    },
    {
     "data": {
      "image/png": "[encoded data removed]",
      "text/plain": [
       "<Figure size 432x288 with 1 Axes>"
      ]
     },
     "metadata": {},
     "output_type": "display_data"
    }
   ],
   "source": [
    "# shuffle_percents = 50%\n",
    "times, sizes = profile(\n",
    "    1000, 100, shell_sort, \n",
    "    arr_gen_func=generate_almost_sorted,\n",
    "    arr_gen_args={\"shuffle_percents\": 50},\n",
    "    runs_on_loop=5\n",
    ")\n",
    "plt.plot(sizes, times)"
   ]
  },
  {
   "cell_type": "code",
   "execution_count": null,
   "metadata": {},
   "outputs": [],
   "source": []
  },
  {
   "cell_type": "code",
   "execution_count": null,
   "metadata": {},
   "outputs": [],
   "source": []
  }
 ],
 "metadata": {
  "kernelspec": {
   "display_name": "Python 3",
   "language": "python",
   "name": "python3"
  },
  "language_info": {
   "codemirror_mode": {
    "name": "ipython",
    "version": 3
   },
   "file_extension": ".py",
   "mimetype": "text/x-python",
   "name": "python",
   "nbconvert_exporter": "python",
   "pygments_lexer": "ipython3",
   "version": "3.7.1"
  }
 },
 "nbformat": 4,
 "nbformat_minor": 2
}
