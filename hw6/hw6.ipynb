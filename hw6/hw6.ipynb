{
 "cells": [
  {
   "cell_type": "markdown",
   "metadata": {},
   "source": [
    "# HomeWork 6\n",
    "## QuickSort\n",
    "\n",
    "Реализовать QuickSort (рандомизированный и обычный)\n",
    "- алгоритм работает корректно, используется insertion sort: 3 балла\n",
    "- алгоритм работает корректно, но выполняет много лишних действий / отклоняется от реализации не в лучшую сторону - 2 балл\n",
    "\n",
    "Дополнительно:\n",
    "- quicksort - сравнить рандомизированный и обычный варианты - 1 балл\n",
    "- распараллелить алгоритм - 1 балл"
   ]
  },
  {
   "cell_type": "code",
   "execution_count": 24,
   "metadata": {},
   "outputs": [],
   "source": [
    "import random\n",
    "from typing import List\n",
    "\n",
    "import time\n",
    "import matplotlib.pyplot as plt  \n",
    "import tqdm  # для отображения прогресс-бара\n",
    "\n",
    "MIN_ARRAY_LEN = 5"
   ]
  },
  {
   "cell_type": "markdown",
   "metadata": {},
   "source": [
    "## Функция для тестов"
   ]
  },
  {
   "cell_type": "code",
   "execution_count": 22,
   "metadata": {},
   "outputs": [],
   "source": [
    "def profile(max_size, \n",
    "            sort_func, arr_gen_func=None, \n",
    "            sort_args={}, arr_gen_args={}, \n",
    "            runs_on_loop=10):\n",
    "    \"\"\"\n",
    "    Профилирование работы функции сортировки\n",
    "    \n",
    "    Параметры:\n",
    "    max_size - максимальный размер списка\n",
    "    sort_func - функция сортировки, должна принимать на вход список и **kwargs\n",
    "    arr_gen_func - функция для генерации списка, должна принимать на вход размер списка и **kwargs\n",
    "    sort_args - доп. аргументы для sort_func\n",
    "    arr_gen_args - доп. аргументы для arr_gen_func\n",
    "    runs_on_loop - количество запусков в 1 итерации \n",
    "    \"\"\"\n",
    "    times = []\n",
    "    sizes = []\n",
    "    if not arr_gen_func:\n",
    "        arr_gen_func = lambda size, **arr_gen_args: [random.randint(0, size) for _ in range(size)]\n",
    "    \n",
    "    sizes = []\n",
    "    for i in range(1, 100):\n",
    "        new_size = 4**i\n",
    "        if new_size > max_size:\n",
    "            break\n",
    "        sizes.append(new_size)\n",
    "    \n",
    "    for arr_size in tqdm.tqdm(sizes):\n",
    "        nested_time = []\n",
    "        \n",
    "        for _ in range(runs_on_loop):\n",
    "            arr = arr_gen_func(arr_size, **arr_gen_args)\n",
    "            start = time.process_time()\n",
    "            sort_func(arr, **sort_args)\n",
    "            nested_time.append(time.process_time() - start)\n",
    "            \n",
    "        times.append(sum(nested_time) / len(nested_time))\n",
    "    return times, sizes\n",
    "\n",
    "def generate_almost_sorted(size: int, shuffle_percents: int) -> List:\n",
    "    \"\"\"\n",
    "    1. Генерируем список заданного размера\n",
    "    2. Исходя из shuffle_percents рассчитываем шаг с которым мы мешаем элементы.\n",
    "    Шаг=2 - меняем каждый 2 элемент со следующим\n",
    "    Шаг=10 - меняем каждый 10 элемент со следующим\n",
    "    и т.д.\n",
    "    3. Если шаг находится в допустимых границах - перемешиваем элементы с полученным шагом\n",
    "    \n",
    "    Параметры:\n",
    "    size: размер списка\n",
    "    shuffle_percents: процент элементов в списке, которые нужно перемешать\n",
    "    \"\"\"\n",
    "    array = list(range(size))\n",
    "    \n",
    "    step = int(100/shuffle_percents)\n",
    "    if not (1 < step < len(array)):\n",
    "        return array\n",
    "    \n",
    "    for i in range(0, len(array), step):\n",
    "        array[i] = random.randint(0, size)\n",
    "    \n",
    "    return array"
   ]
  },
  {
   "cell_type": "markdown",
   "metadata": {},
   "source": [
    "## Insertion Sort"
   ]
  },
  {
   "cell_type": "code",
   "execution_count": 5,
   "metadata": {},
   "outputs": [],
   "source": [
    "def insertion_sort(array: List, step: int = 1, start: int = 0):\n",
    "    for i in range(start + step, len(array), step):\n",
    "        x = array[i]\n",
    "        j = i\n",
    "\n",
    "        while j >= step and array[j - step] > x:\n",
    "            array[j] = array[j - step]\n",
    "            j -= step\n",
    "\n",
    "        array[j] = x"
   ]
  },
  {
   "cell_type": "markdown",
   "metadata": {},
   "source": [
    "## Quick Sort"
   ]
  },
  {
   "cell_type": "code",
   "execution_count": 37,
   "metadata": {},
   "outputs": [],
   "source": [
    "def quick_sort(array: List,\n",
    "               begin: int = 0,\n",
    "               end: int = -1,\n",
    "               rand_pivot: bool = False):\n",
    "    if len(array) <= MIN_ARRAY_LEN:\n",
    "        insertion_sort(array)\n",
    "\n",
    "    end = normalize_index(array, end)\n",
    "\n",
    "    if begin < end:\n",
    "        pivot = partition(array, begin, end, rand_pivot)\n",
    "\n",
    "        quick_sort(array, begin, pivot, rand_pivot)\n",
    "        quick_sort(array, pivot+1, end, rand_pivot)\n",
    "\n",
    "\n",
    "def partition(array: List, begin: int, end: int, rand: bool = True) -> int:\n",
    "    if rand:\n",
    "        pivot_index = randint(begin, end-1)\n",
    "        swap(array, pivot_index, end-1)\n",
    "    pivot = array[end-1]\n",
    "\n",
    "    i = begin - 1\n",
    "    for j in range(begin, end-1):\n",
    "        if array[j] <= pivot:\n",
    "            i += 1\n",
    "            swap(array, i, j)\n",
    "\n",
    "    swap(array, i+1, end-1)\n",
    "    return i+1\n",
    "\n",
    "\n",
    "def normalize_index(array: List, index: int):\n",
    "    return index if index >= 0 else len(array) + index + 1\n",
    "\n",
    "\n",
    "def swap(array: List, i: int, j: int):\n",
    "    if i == j:\n",
    "        return\n",
    "    array[i], array[j] = array[j], array[i]"
   ]
  },
  {
   "cell_type": "markdown",
   "metadata": {},
   "source": [
    "## Тесты"
   ]
  },
  {
   "cell_type": "markdown",
   "metadata": {},
   "source": [
    "### Обычный вариант (pivot - последний элемент в списке)"
   ]
  },
  {
   "cell_type": "code",
   "execution_count": 49,
   "metadata": {},
   "outputs": [
    {
     "name": "stderr",
     "output_type": "stream",
     "text": [
      "100%|██████████| 8/8 [00:03<00:00,  1.06s/it]\n"
     ]
    },
    {
     "data": {
      "text/plain": [
       "[<matplotlib.lines.Line2D at 0x115105e48>]"
      ]
     },
     "execution_count": 49,
     "metadata": {},
     "output_type": "execute_result"
    },
    {
     "data": {
      "image/png": "[encoded data removed]",
      "text/plain": [
       "<Figure size 432x288 with 1 Axes>"
      ]
     },
     "metadata": {
      "needs_background": "light"
     },
     "output_type": "display_data"
    }
   ],
   "source": [
    "# Список в случайном порядке\n",
    "times, sizes = profile(\n",
    "    100000, quick_sort, \n",
    "    sort_args={\"rand_pivot\": False},\n",
    "    runs_on_loop=5\n",
    ")\n",
    "plt.plot(sizes, times)"
   ]
  },
  {
   "cell_type": "code",
   "execution_count": 48,
   "metadata": {},
   "outputs": [
    {
     "name": "stderr",
     "output_type": "stream",
     "text": [
      "100%|██████████| 8/8 [00:07<00:00,  2.10s/it]\n"
     ]
    },
    {
     "data": {
      "text/plain": [
       "[<matplotlib.lines.Line2D at 0x114f7a978>]"
      ]
     },
     "execution_count": 48,
     "metadata": {},
     "output_type": "execute_result"
    },
    {
     "data": {
      "image/png": "[encoded data removed]",
      "text/plain": [
       "<Figure size 432x288 with 1 Axes>"
      ]
     },
     "metadata": {
      "needs_background": "light"
     },
     "output_type": "display_data"
    }
   ],
   "source": [
    "# Почти упорядоченный список\n",
    "# shuffle_percents = 5%\n",
    "times, sizes = profile(\n",
    "    100000, quick_sort, \n",
    "    arr_gen_func=generate_almost_sorted,\n",
    "    arr_gen_args={\"shuffle_percents\": 5},\n",
    "    sort_args={\"rand_pivot\": False},\n",
    "    runs_on_loop=5\n",
    ")\n",
    "plt.plot(sizes, times)"
   ]
  },
  {
   "cell_type": "markdown",
   "metadata": {},
   "source": [
    "### Рандомизированный вариант (pivot - случайный элемент в списке)"
   ]
  },
  {
   "cell_type": "code",
   "execution_count": 50,
   "metadata": {},
   "outputs": [
    {
     "name": "stderr",
     "output_type": "stream",
     "text": [
      "100%|██████████| 8/8 [00:04<00:00,  1.33s/it]\n"
     ]
    },
    {
     "data": {
      "text/plain": [
       "[<matplotlib.lines.Line2D at 0x114f7a1d0>]"
      ]
     },
     "execution_count": 50,
     "metadata": {},
     "output_type": "execute_result"
    },
    {
     "data": {
      "image/png": "[encoded data removed]",
      "text/plain": [
       "<Figure size 432x288 with 1 Axes>"
      ]
     },
     "metadata": {
      "needs_background": "light"
     },
     "output_type": "display_data"
    }
   ],
   "source": [
    "# Список в случайном порядке\n",
    "times, sizes = profile(\n",
    "    100000, quick_sort, \n",
    "    sort_args={\"rand_pivot\": True},\n",
    "    runs_on_loop=5\n",
    ")\n",
    "plt.plot(sizes, times)"
   ]
  },
  {
   "cell_type": "code",
   "execution_count": 54,
   "metadata": {},
   "outputs": [
    {
     "name": "stderr",
     "output_type": "stream",
     "text": [
      "100%|██████████| 8/8 [00:04<00:00,  1.13s/it]\n"
     ]
    },
    {
     "data": {
      "text/plain": [
       "[<matplotlib.lines.Line2D at 0x115372940>]"
      ]
     },
     "execution_count": 54,
     "metadata": {},
     "output_type": "execute_result"
    },
    {
     "data": {
      "image/png": "[encoded data removed]",
      "text/plain": [
       "<Figure size 432x288 with 1 Axes>"
      ]
     },
     "metadata": {
      "needs_background": "light"
     },
     "output_type": "display_data"
    }
   ],
   "source": [
    "# Почти упорядоченный список\n",
    "# shuffle_percents = 5%\n",
    "times, sizes = profile(\n",
    "    100000, quick_sort, \n",
    "    arr_gen_func=generate_almost_sorted,\n",
    "    arr_gen_args={\"shuffle_percents\": 5},\n",
    "    sort_args={\"rand_pivot\": True},\n",
    "    runs_on_loop=5\n",
    ")\n",
    "plt.plot(sizes, times)"
   ]
  }
 ],
 "metadata": {
  "kernelspec": {
   "display_name": "Python 3",
   "language": "python",
   "name": "python3"
  },
  "language_info": {
   "codemirror_mode": {
    "name": "ipython",
    "version": 3
   },
   "file_extension": ".py",
   "mimetype": "text/x-python",
   "name": "python",
   "nbconvert_exporter": "python",
   "pygments_lexer": "ipython3",
   "version": "3.7.1"
  }
 },
 "nbformat": 4,
 "nbformat_minor": 2
}
